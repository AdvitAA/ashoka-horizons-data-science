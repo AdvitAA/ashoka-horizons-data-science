{
 "cells": [
  {
   "cell_type": "code",
   "execution_count": null,
   "metadata": {},
   "outputs": [],
   "source": [
    "#task 1\n",
    "scores = [55 , 92 , 78 , 60 , 85 , 78 , 90 , 66 , 73 , 88]"
   ]
  },
  {
   "cell_type": "code",
   "execution_count": 18,
   "metadata": {},
   "outputs": [
    {
     "name": "stdout",
     "output_type": "stream",
     "text": [
      "765\n",
      "Mean is  76.5\n"
     ]
    }
   ],
   "source": [
    "mean = 0\n",
    "mean_sum=0\n",
    "length=len(scores)\n",
    "for i in range(0,10,1):\n",
    "    mean_sum += scores[i]\n",
    "mean = mean_sum/length\n",
    "print(mean_sum)\n",
    "print(\"Mean is \", mean)"
   ]
  },
  {
   "cell_type": "code",
   "execution_count": 19,
   "metadata": {},
   "outputs": [
    {
     "name": "stdout",
     "output_type": "stream",
     "text": [
      "[55, 60, 66, 73, 78, 78, 85, 88, 90, 92]\n"
     ]
    }
   ],
   "source": [
    "scores.sort()\n",
    "print(scores)"
   ]
  },
  {
   "cell_type": "code",
   "execution_count": 20,
   "metadata": {},
   "outputs": [
    {
     "name": "stdout",
     "output_type": "stream",
     "text": [
      "Median is  78.0\n"
     ]
    }
   ],
   "source": [
    "median_sum = scores[4]+scores[5]\n",
    "median=median_sum/2\n",
    "print(\"Median is \",median)"
   ]
  },
  {
   "cell_type": "code",
   "execution_count": 21,
   "metadata": {},
   "outputs": [
    {
     "name": "stdout",
     "output_type": "stream",
     "text": [
      "{55: 1, 60: 1, 66: 1, 73: 1, 78: 2, 85: 1, 88: 1, 90: 1, 92: 1}\n"
     ]
    }
   ],
   "source": [
    "\n",
    "frequency = {}\n",
    "for item in scores:\n",
    "    if item in frequency:\n",
    "        frequency[item] += 1\n",
    "    else:\n",
    "        frequency[item] = 1\n",
    "\n",
    "print(frequency)\n"
   ]
  },
  {
   "cell_type": "code",
   "execution_count": 22,
   "metadata": {},
   "outputs": [
    {
     "name": "stdout",
     "output_type": "stream",
     "text": [
      "78\n"
     ]
    }
   ],
   "source": [
    "mode = max(frequency, key=frequency.get )\n",
    "print(mode)\n",
    "#I'm a bit confused for this one. I used W3 schools for the syntax in line 1. Could you please explain this in the next session?"
   ]
  },
  {
   "cell_type": "code",
   "execution_count": 23,
   "metadata": {},
   "outputs": [
    {
     "name": "stdout",
     "output_type": "stream",
     "text": [
      "Range: 37\n"
     ]
    }
   ],
   "source": [
    "num_range= max(scores) - min(scores)\n",
    "print(\"Range:\", num_range)"
   ]
  },
  {
   "cell_type": "code",
   "execution_count": 24,
   "metadata": {},
   "outputs": [
    {
     "name": "stdout",
     "output_type": "stream",
     "text": [
      "Variance 148.625\n"
     ]
    }
   ],
   "source": [
    "import math\n",
    "freq_diff = {}\n",
    "for item in scores:\n",
    "    freq_diff[item]=(item-mean)**2\n",
    "sum_variance=0\n",
    "for item in freq_diff:\n",
    "    sum_variance+=freq_diff[item]\n",
    "variance=sum_variance/length\n",
    "print(\"Variance\", variance)"
   ]
  },
  {
   "cell_type": "code",
   "execution_count": 25,
   "metadata": {},
   "outputs": [
    {
     "name": "stdout",
     "output_type": "stream",
     "text": [
      "Standard deviation is 12.19118534023661\n"
     ]
    }
   ],
   "source": [
    "st_dev= variance**0.5\n",
    "print(\"Standard deviation is\",st_dev)"
   ]
  },
  {
   "cell_type": "code",
   "execution_count": null,
   "metadata": {},
   "outputs": [
    {
     "name": "stdout",
     "output_type": "stream",
     "text": [
      "Mean, median, range, mode 76.5 78.0 37 ModeResult(mode=np.int64(78), count=np.int64(2))\n"
     ]
    }
   ],
   "source": [
    "import numpy as np\n",
    "from scipy import stats\n",
    "mean=np.mean(scores)\n",
    "median=np.median(scores)\n",
    "maximum=np.max(scores)\n",
    "minimum=np.min(scores)\n",
    "new_range=maximum-minimum\n",
    "mode=scipy.stats.mode(scores)\n",
    "print(\"Mean, median, range, mode\",mean,median,new_range,mode)\n",
    "#I didn't understand how we can use Numpy to find out the mode"
   ]
  },
  {
   "cell_type": "code",
   "execution_count": 33,
   "metadata": {},
   "outputs": [
    {
     "name": "stdout",
     "output_type": "stream",
     "text": [
      "[[47]\n",
      " [54]\n",
      " [61]\n",
      " [68]\n",
      " [75]\n",
      " [82]\n",
      " [89]\n",
      " [96]]\n"
     ]
    }
   ],
   "source": [
    "#task 2\n",
    "X_experience = np . array ([1 , 2 , 3 , 4 , 5 , 6 , 7 , 8]) . reshape ( -1 , 1)\n",
    "Y_salary = np . array ([45 , 50 , 60 , 65 , 75 , 80 , 90 , 95])\n",
    "m=7\n",
    "c=40\n",
    "Y_predicted = X_experience*m+c\n",
    "print(Y_predicted)"
   ]
  },
  {
   "cell_type": "code",
   "execution_count": null,
   "metadata": {},
   "outputs": [
    {
     "ename": "",
     "evalue": "",
     "output_type": "error",
     "traceback": [
      "\u001b[1;31mFailed to start the Kernel. \n",
      "\u001b[1;31mUnable to start Kernel 'horizons25 (Python 3.12.9)' due to a timeout waiting for the ports to get used. \n",
      "\u001b[1;31mView Jupyter <a href='command:jupyter.viewOutput'>log</a> for further details."
     ]
    }
   ],
   "source": [
    "import scipy\n",
    "import sklearn as sk\n",
    "from sklearn.linear_model import LinearRegression\n",
    "from scipy.sparse.linalg import cg\n",
    "\n",
    "print(\"✅ Everything is now working!\")\n"
   ]
  },
  {
   "cell_type": "code",
   "execution_count": 58,
   "metadata": {},
   "outputs": [
    {
     "name": "stdout",
     "output_type": "stream",
     "text": [
      "Z values (mX + c): [-4. -3. -2. -1.  0.  1.  2.  3.  4.  5.]\n",
      "Predicted Probabilities (sigmoid): [0.01798621 0.04742587 0.11920292 0.26894142 0.5        0.73105858\n",
      " 0.88079708 0.95257413 0.98201379 0.99330715]\n",
      "Predicted Classes (0 or 1): [0 0 0 0 1 1 1 1 1 1]\n",
      "Actual Classes: [0 0 0 0 1 0 1 1 1 1]\n",
      "Accuracy: 0.9\n"
     ]
    }
   ],
   "source": [
    "#Task 3\n",
    "import numpy as np\n",
    "\n",
    "X_prep_hours = np.array([0.5, 1.0, 1.5, 2.0, 2.5, 3.0, 3.5, 4.0, 4.5, 5.0]).reshape(-1, 1)\n",
    "Y_pass_fail = np.array([0, 0, 0, 0, 1, 0, 1, 1, 1, 1])\n",
    "\n",
    "m = 2\n",
    "c = -5\n",
    "\n",
    "z = m * X_prep_hours + c\n",
    "\n",
    "def sigmoid(z):\n",
    "    return 1 / (1 + np.exp(-z))\n",
    "\n",
    "probabilities = sigmoid(z)\n",
    "predicted_classes = (probabilities >= 0.5).astype(int)\n",
    "\n",
    "correct_predictions = (predicted_classes.flatten() == Y_pass_fail).sum()\n",
    "accuracy = correct_predictions / len(Y_pass_fail)\n",
    "\n",
    "print(\"Z values (mX + c):\", z.flatten())\n",
    "print(\"Predicted Probabilities (sigmoid):\", probabilities.flatten())\n",
    "print(\"Predicted Classes (0 or 1):\", predicted_classes.flatten())\n",
    "print(\"Actual Classes:\", Y_pass_fail)\n",
    "print(\"Accuracy:\", accuracy)\n"
   ]
  },
  {
   "cell_type": "markdown",
   "metadata": {},
   "source": []
  }
 ],
 "metadata": {
  "kernelspec": {
   "display_name": "horizons25",
   "language": "python",
   "name": "python3"
  },
  "language_info": {
   "codemirror_mode": {
    "name": "ipython",
    "version": 3
   },
   "file_extension": ".py",
   "mimetype": "text/x-python",
   "name": "python",
   "nbconvert_exporter": "python",
   "pygments_lexer": "ipython3",
   "version": "3.12.9"
  }
 },
 "nbformat": 4,
 "nbformat_minor": 2
}
