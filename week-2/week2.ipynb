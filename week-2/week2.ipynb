{
 "cells": [
  {
   "cell_type": "code",
   "execution_count": 3,
   "metadata": {},
   "outputs": [],
   "source": [
    "#task 1\n",
    "scores = [55 , 92 , 78 , 60 , 85 , 78 , 90 , 66 , 73 , 88]"
   ]
  },
  {
   "cell_type": "code",
   "execution_count": 4,
   "metadata": {},
   "outputs": [
    {
     "name": "stdout",
     "output_type": "stream",
     "text": [
      "765\n",
      "Mean is  76.5\n"
     ]
    }
   ],
   "source": [
    "mean = 0\n",
    "mean_sum=0\n",
    "length=len(scores)\n",
    "for i in range(0,10,1):\n",
    "    mean_sum += scores[i]\n",
    "mean = mean_sum/length\n",
    "print(mean_sum)\n",
    "print(\"Mean is \", mean)"
   ]
  },
  {
   "cell_type": "code",
   "execution_count": 5,
   "metadata": {},
   "outputs": [
    {
     "name": "stdout",
     "output_type": "stream",
     "text": [
      "[55, 60, 66, 73, 78, 78, 85, 88, 90, 92]\n"
     ]
    }
   ],
   "source": [
    "scores.sort()\n",
    "print(scores)"
   ]
  },
  {
   "cell_type": "code",
   "execution_count": 6,
   "metadata": {},
   "outputs": [
    {
     "name": "stdout",
     "output_type": "stream",
     "text": [
      "Median is  78.0\n"
     ]
    }
   ],
   "source": [
    "median_sum = scores[4]+scores[5]\n",
    "median=median_sum/2\n",
    "print(\"Median is \",median)"
   ]
  },
  {
   "cell_type": "code",
   "execution_count": 7,
   "metadata": {},
   "outputs": [
    {
     "name": "stdout",
     "output_type": "stream",
     "text": [
      "{55: 1, 60: 1, 66: 1, 73: 1, 78: 2, 85: 1, 88: 1, 90: 1, 92: 1}\n"
     ]
    }
   ],
   "source": [
    "\n",
    "frequency = {}\n",
    "for item in scores:\n",
    "    if item in frequency:\n",
    "        frequency[item] += 1\n",
    "    else:\n",
    "        frequency[item] = 1\n",
    "\n",
    "print(frequency)\n"
   ]
  },
  {
   "cell_type": "code",
   "execution_count": 8,
   "metadata": {},
   "outputs": [
    {
     "name": "stdout",
     "output_type": "stream",
     "text": [
      "78\n"
     ]
    }
   ],
   "source": [
    "mode = max(frequency, key=frequency.get )\n",
    "print(mode)\n",
    "#I'm a bit confused for this one. I used W3 schools for the syntax in line 1. Could you please explain this in the next session?"
   ]
  },
  {
   "cell_type": "code",
   "execution_count": 9,
   "metadata": {},
   "outputs": [
    {
     "name": "stdout",
     "output_type": "stream",
     "text": [
      "Range: 37\n"
     ]
    }
   ],
   "source": [
    "num_range= max(scores) - min(scores)\n",
    "print(\"Range:\", num_range)"
   ]
  },
  {
   "cell_type": "code",
   "execution_count": 10,
   "metadata": {},
   "outputs": [
    {
     "name": "stdout",
     "output_type": "stream",
     "text": [
      "Variance 148.625\n"
     ]
    }
   ],
   "source": [
    "import math\n",
    "freq_diff = {}\n",
    "for item in scores:\n",
    "    freq_diff[item]=(item-mean)**2\n",
    "sum_variance=0\n",
    "for item in freq_diff:\n",
    "    sum_variance+=freq_diff[item]\n",
    "variance=sum_variance/length\n",
    "print(\"Variance\", variance)"
   ]
  },
  {
   "cell_type": "code",
   "execution_count": 11,
   "metadata": {},
   "outputs": [
    {
     "name": "stdout",
     "output_type": "stream",
     "text": [
      "Standard deviation is 12.19118534023661\n"
     ]
    }
   ],
   "source": [
    "st_dev= variance**0.5\n",
    "print(\"Standard deviation is\",st_dev)"
   ]
  },
  {
   "cell_type": "code",
   "execution_count": 12,
   "metadata": {},
   "outputs": [
    {
     "name": "stdout",
     "output_type": "stream",
     "text": [
      "Mean, median, range, mode 76.5 78.0 37 ModeResult(mode=np.int64(78), count=np.int64(2))\n"
     ]
    }
   ],
   "source": [
    "import numpy as np\n",
    "from scipy import stats\n",
    "mean=np.mean(scores)\n",
    "median=np.median(scores)\n",
    "maximum=np.max(scores)\n",
    "minimum=np.min(scores)\n",
    "new_range=maximum-minimum\n",
    "mode=scipy.stats.mode(scores)\n",
    "print(\"Mean, median, range, mode\",mean,median,new_range,mode)\n",
    "#I didn't understand how we can use Numpy to find out the mode"
   ]
  },
  {
   "cell_type": "code",
   "execution_count": 13,
   "metadata": {},
   "outputs": [
    {
     "name": "stdout",
     "output_type": "stream",
     "text": [
      "[[47]\n",
      " [54]\n",
      " [61]\n",
      " [68]\n",
      " [75]\n",
      " [82]\n",
      " [89]\n",
      " [96]]\n"
     ]
    }
   ],
   "source": [
    "#task 2\n",
    "X_experience = np . array ([1 , 2 , 3 , 4 , 5 , 6 , 7 , 8]) . reshape ( -1 , 1)\n",
    "Y_salary = np . array ([45 , 50 , 60 , 65 , 75 , 80 , 90 , 95])\n",
    "m=7\n",
    "c=40\n",
    "Y_predicted = X_experience*m+c\n",
    "print(Y_predicted)"
   ]
  },
  {
   "cell_type": "code",
   "execution_count": 14,
   "metadata": {},
   "outputs": [
    {
     "name": "stdout",
     "output_type": "stream",
     "text": [
      "Z values (mX + c): [-4. -3. -2. -1.  0.  1.  2.  3.  4.  5.]\n",
      "Predicted Probabilities (sigmoid): [0.01798621 0.04742587 0.11920292 0.26894142 0.5        0.73105858\n",
      " 0.88079708 0.95257413 0.98201379 0.99330715]\n",
      "Predicted Classes (0 or 1): [0 0 0 0 1 1 1 1 1 1]\n",
      "Actual Classes: [0 0 0 0 1 0 1 1 1 1]\n",
      "Accuracy: 0.9\n"
     ]
    }
   ],
   "source": [
    "#Task 3\n",
    "import numpy as np\n",
    "\n",
    "X_prep_hours = np.array([0.5, 1.0, 1.5, 2.0, 2.5, 3.0, 3.5, 4.0, 4.5, 5.0]).reshape(-1, 1)\n",
    "Y_pass_fail = np.array([0, 0, 0, 0, 1, 0, 1, 1, 1, 1])\n",
    "\n",
    "m = 2\n",
    "c = -5\n",
    "\n",
    "z = m * X_prep_hours + c\n",
    "\n",
    "def sigmoid(z):\n",
    "    return 1 / (1 + np.exp(-z))\n",
    "\n",
    "probabilities = sigmoid(z)\n",
    "predicted_classes = (probabilities >= 0.5).astype(int)\n",
    "\n",
    "correct_predictions = (predicted_classes.flatten() == Y_pass_fail).sum()\n",
    "accuracy = correct_predictions / len(Y_pass_fail)\n",
    "\n",
    "print(\"Z values (mX + c):\", z.flatten())\n",
    "print(\"Predicted Probabilities (sigmoid):\", probabilities.flatten())\n",
    "print(\"Predicted Classes (0 or 1):\", predicted_classes.flatten())\n",
    "print(\"Actual Classes:\", Y_pass_fail)\n",
    "print(\"Accuracy:\", accuracy)\n"
   ]
  },
  {
   "cell_type": "markdown",
   "metadata": {},
   "source": []
  },
  {
   "cell_type": "code",
   "execution_count": null,
   "metadata": {},
   "outputs": [
    {
     "name": "stdout",
     "output_type": "stream",
     "text": [
      "Learned coefficient (m): 0.5361985605622785\n",
      "Learned intercept (c): -1.0077449163597512\n",
      "Predictions: [0 0 0 1 1 1 1 1 1 1]\n",
      "Accuracy: 0.8\n",
      "Confusion Matrix:\n",
      "[[3 2]\n",
      " [0 5]]\n"
     ]
    }
   ],
   "source": [
    "from sklearn.linear_model import LogisticRegression\n",
    "from sklearn.metrics import accuracy_score, confusion_matrix\n",
    "\n",
    "\n",
    "X_prep_hours = np.array([0.5, 1.0, 1.5, 2.0, 2.5, 3.0, 3.5, 4.0, 4.5, 5.0]).reshape(-1, 1)\n",
    "Y_pass_fail = np.array([0, 0, 0, 0, 1, 0, 1, 1, 1, 1])\n",
    "\n",
    "\n",
    "model = LogisticRegression(solver='liblinear')\n",
    "model.fit(X_prep_hours, Y_pass_fail)\n",
    "\n",
    "\n",
    "print(\"Learned coefficient (m):\", model.coef_[0][0])\n",
    "print(\"Learned intercept (c):\", model.intercept_[0])\n",
    "\n",
    "\n",
    "y_pred = model.predict(X_prep_hours)\n",
    "print(\"Predictions:\", y_pred)\n",
    "\n",
    "\n",
    "accuracy = accuracy_score(Y_pass_fail, y_pred)\n",
    "conf_matrix = confusion_matrix(Y_pass_fail, y_pred)\n",
    "\n",
    "print(\"Accuracy:\", accuracy)\n",
    "print(\"Confusion Matrix:\")\n",
    "print(conf_matrix)\n",
    "\n",
    "##Interpretation: The accuracy score tells us how accurate the model is in prediction. Here, the accuracy is 0.8 so the model predicts correctly \n",
    "#80% of the time. True Negatives : Students who failed and were correctly predicted to fail\n",
    "# False Positives : Students who failed but were incorrectly predicted to pass\n",
    "# False Negatives : Students who passed but were incorrectly predicted to fail  \n",
    "#True Positives : Students who passed and were correctly predicted to pass"
   ]
  },
  {
   "cell_type": "code",
   "execution_count": null,
   "metadata": {},
   "outputs": [
    {
     "name": "stdout",
     "output_type": "stream",
     "text": [
      "=== Task 4.1: Manual K-Means Iterations ===\n",
      "Initial centroids:\n",
      "C1 = [ 2 10]\n",
      "C2 = [2 5]\n",
      "\n",
      "Iteration 1 - Assignment Step:\n",
      "Point | Coordinates | Distance to C1 | Distance to C2 | Assigned to\n",
      "----------------------------------------------------------------------\n",
      "  0   |    [ 2 10]     |     0.00      |     5.00      | Cluster 1\n",
      "  1   |    [2 5]     |     5.00      |     0.00      | Cluster 2\n",
      "  2   |    [8 4]     |     8.49      |     6.08      | Cluster 2\n",
      "  3   |    [5 8]     |     3.61      |     4.24      | Cluster 1\n",
      "  4   |    [7 5]     |     7.07      |     5.00      | Cluster 2\n",
      "  5   |    [6 4]     |     7.21      |     4.12      | Cluster 2\n",
      "  6   |    [1 2]     |     8.06      |     3.16      | Cluster 2\n",
      "  7   |    [4 9]     |     2.24      |     4.47      | Cluster 1\n",
      "\n",
      "Iteration 1 - Update Step:\n",
      "New C1 = [3.66666667 9.        ]\n",
      "New C2 = [4.8 4. ]\n",
      "\n",
      "Iteration 2 - Assignment Step:\n",
      "Point | Coordinates | Distance to new C1 | Distance to new C2 | Assigned to\n",
      "------------------------------------------------------------------------------\n",
      "  0   |    [ 2 10]     |       1.94        |       6.62        | Cluster 1\n",
      "  1   |    [2 5]     |       4.33        |       2.97        | Cluster 2\n",
      "  2   |    [8 4]     |       6.62        |       3.20        | Cluster 2\n",
      "  3   |    [5 8]     |       1.67        |       4.00        | Cluster 1\n",
      "  4   |    [7 5]     |       5.21        |       2.42        | Cluster 2\n",
      "  5   |    [6 4]     |       5.52        |       1.20        | Cluster 2\n",
      "  6   |    [1 2]     |       7.49        |       4.29        | Cluster 2\n",
      "  7   |    [4 9]     |       0.33        |       5.06        | Cluster 1\n",
      "\n",
      "Final manual results after 2 iterations:\n",
      "Final C1 = [3.66666667 9.        ]\n",
      "Final C2 = [4.8 4. ]\n",
      "Final assignments: [1, 2, 2, 1, 2, 2, 2, 1]\n"
     ]
    }
   ],
   "source": [
    "\n",
    "X_cluster_data = np.array([\n",
    "    [2, 10], [2, 5], [8, 4], [5, 8], [7, 5], [6, 4], [1, 2], [4, 9]\n",
    "])\n",
    "\n",
    "print(\"=== Task 4.1: Manual K-Means Iterations ===\")\n",
    "\n",
    "\n",
    "C1 = np.array([2, 10])  # First point as Centroid 1\n",
    "C2 = np.array([2, 5])   # Second point as Centroid 2\n",
    "\n",
    "print(\"Initial centroids:\")\n",
    "print(f\"C1 = {C1}\")\n",
    "print(f\"C2 = {C2}\")\n",
    "\n",
    "\n",
    "print(\"\\nIteration 1 - Assignment Step:\")\n",
    "print(\"Point | Coordinates | Distance to C1 | Distance to C2 | Assigned to\")\n",
    "print(\"-\" * 70)\n",
    "\n",
    "cluster_assignments = []\n",
    "for i, point in enumerate(X_cluster_data):\n",
    "    \n",
    "    dist_to_C1 = np.sqrt(np.sum((point - C1)**2))\n",
    "    dist_to_C2 = np.sqrt(np.sum((point - C2)**2))\n",
    "    \n",
    "    \n",
    "    if dist_to_C1 < dist_to_C2:\n",
    "        assigned_cluster = 1\n",
    "    else:\n",
    "        assigned_cluster = 2\n",
    "    \n",
    "    cluster_assignments.append(assigned_cluster)\n",
    "    \n",
    "    print(f\"  {i}   |    {point}     |     {dist_to_C1:.2f}      |     {dist_to_C2:.2f}      | Cluster {assigned_cluster}\")\n",
    "\n",
    "\n",
    "print(\"\\nIteration 1 - Update Step:\")\n",
    "\n",
    "cluster_1_points = []\n",
    "cluster_2_points = []\n",
    "\n",
    "for i, assignment in enumerate(cluster_assignments):\n",
    "    if assignment == 1:\n",
    "        cluster_1_points.append(X_cluster_data[i])\n",
    "    else:\n",
    "        cluster_2_points.append(X_cluster_data[i])\n",
    "\n",
    "if cluster_1_points:\n",
    "    new_C1 = np.mean(cluster_1_points, axis=0)\n",
    "else:\n",
    "    new_C1 = C1\n",
    "    \n",
    "if cluster_2_points:\n",
    "    new_C2 = np.mean(cluster_2_points, axis=0)\n",
    "else:\n",
    "    new_C2 = C2\n",
    "\n",
    "print(f\"New C1 = {new_C1}\")\n",
    "print(f\"New C2 = {new_C2}\")\n",
    "\n",
    "print(\"\\nIteration 2 - Assignment Step:\")\n",
    "print(\"Point | Coordinates | Distance to new C1 | Distance to new C2 | Assigned to\")\n",
    "print(\"-\" * 78)\n",
    "\n",
    "new_cluster_assignments = []\n",
    "for i, point in enumerate(X_cluster_data):\n",
    "   \n",
    "    dist_to_new_C1 = np.sqrt(np.sum((point - new_C1)**2))\n",
    "    dist_to_new_C2 = np.sqrt(np.sum((point - new_C2)**2))\n",
    "    \n",
    "  \n",
    "    if dist_to_new_C1 < dist_to_new_C2:\n",
    "        assigned_cluster = 1\n",
    "    else:\n",
    "        assigned_cluster = 2\n",
    "    \n",
    "    new_cluster_assignments.append(assigned_cluster)\n",
    "    \n",
    "    print(f\"  {i}   |    {point}     |       {dist_to_new_C1:.2f}        |       {dist_to_new_C2:.2f}        | Cluster {assigned_cluster}\")\n",
    "\n",
    "print(\"\\nFinal manual results after 2 iterations:\")\n",
    "print(f\"Final C1 = {new_C1}\")\n",
    "print(f\"Final C2 = {new_C2}\")\n",
    "print(f\"Final assignments: {new_cluster_assignments}\")\n",
    "#I had to take the help of Chatgpt because I was not familiar with the mathematical concepts"
   ]
  },
  {
   "cell_type": "code",
   "execution_count": 21,
   "metadata": {},
   "outputs": [
    {
     "name": "stdout",
     "output_type": "stream",
     "text": [
      "Final cluster centroids:\n",
      "Centroid 0: [5.5  3.75]\n",
      "Centroid 1: [3.25 8.  ]\n",
      "\n",
      "Cluster labels for each data point:\n",
      "Point 0 [ 2 10] -> Cluster 1\n",
      "Point 1 [2 5] -> Cluster 1\n",
      "Point 2 [8 4] -> Cluster 0\n",
      "Point 3 [5 8] -> Cluster 1\n",
      "Point 4 [7 5] -> Cluster 0\n",
      "Point 5 [6 4] -> Cluster 0\n",
      "Point 6 [1 2] -> Cluster 0\n",
      "Point 7 [4 9] -> Cluster 1\n"
     ]
    },
    {
     "data": {
      "image/png": "[encoded data removed]",
      "text/plain": [
       "<Figure size 1000x800 with 1 Axes>"
      ]
     },
     "metadata": {},
     "output_type": "display_data"
    }
   ],
   "source": [
    "\n",
    "from sklearn.cluster import KMeans\n",
    "import matplotlib.pyplot as plt\n",
    "\n",
    "\n",
    "X_cluster_data = np.array([\n",
    "    [2, 10], [2, 5], [8, 4], [5, 8], [7, 5], [6, 4], [1, 2], [4, 9]\n",
    "])\n",
    "\n",
    "\n",
    "kmeans = KMeans(n_clusters=2, random_state=42, n_init='auto')\n",
    "kmeans.fit(X_cluster_data)\n",
    "\n",
    "print(\"Final cluster centroids:\")\n",
    "print(\"Centroid 0:\", kmeans.cluster_centers_[0])\n",
    "print(\"Centroid 1:\", kmeans.cluster_centers_[1])\n",
    "\n",
    "\n",
    "print(\"\\nCluster labels for each data point:\")\n",
    "for i, label in enumerate(kmeans.labels_):\n",
    "    print(f\"Point {i} {X_cluster_data[i]} -> Cluster {label}\")\n",
    "\n",
    "# 4. Compare with manual results:\n",
    "# The scikit-learn results mauy differ from manual calculations because:\n",
    "# -  Manual used first two points [2,10] and [2,5] as initial centroids,\n",
    "#   while scikit-learn uses ransdom initialization (even with random_state=42)\n",
    "# -  Scikit-learn runs until convergence, while manual only did 1-2 iterations\n",
    "# - The algorithm is sensitive to initialization, so different starting points can lead to different results\n",
    "\n",
    "plt.figure(figsize=(10, 8))\n",
    "\n",
    "colors = ['red', 'blue']\n",
    "for i in range(2):\n",
    "    cluster_points = X_cluster_data[kmeans.labels_ == i]\n",
    "    plt.scatter(cluster_points[:, 0], cluster_points[:, 1], \n",
    "                c=colors[i], label=f'Cluster {i}', s=100, alpha=0.7)\n",
    "\n",
    "plt.scatter(kmeans.cluster_centers_[:, 0], kmeans.cluster_centers_[:, 1], \n",
    "            c='black', marker='x', s=200, linewidths=3, label='Centroids')\n",
    "\n",
    "for i, point in enumerate(X_cluster_data):\n",
    "    plt.annotate(f'P{i}', (point[0], point[1]), xytext=(5, 5), \n",
    "                textcoords='offset points', fontsize=10)\n",
    "\n",
    "plt.xlabel('X coordinate')\n",
    "plt.ylabel('Y coordinate')\n",
    "plt.title('K-Means Clustering Results (K=2)')\n",
    "plt.legend()\n",
    "plt.grid(True, alpha=0.3)\n",
    "plt.show()"
   ]
  }
 ],
 "metadata": {
  "kernelspec": {
   "display_name": "horizons25",
   "language": "python",
   "name": "python3"
  },
  "language_info": {
   "codemirror_mode": {
    "name": "ipython",
    "version": 3
   },
   "file_extension": ".py",
   "mimetype": "text/x-python",
   "name": "python",
   "nbconvert_exporter": "python",
   "pygments_lexer": "ipython3",
   "version": "3.12.11"
  }
 },
 "nbformat": 4,
 "nbformat_minor": 2
}
